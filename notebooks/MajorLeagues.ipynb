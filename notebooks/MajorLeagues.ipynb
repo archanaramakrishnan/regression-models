{
 "cells": [
  {
   "cell_type": "markdown",
   "metadata": {},
   "source": [
    "## Goal\n",
    "The objective of this project is to build one or more regression models to determine the scores for each team using the other columns as features. I will follow data preparation and feature engineering process before I use a regression model to predict the scores."
   ]
  },
  {
   "cell_type": "code",
   "execution_count": 71,
   "metadata": {},
   "outputs": [],
   "source": [
    "import pandas as pd #load the data into panda data frames\n",
    "from sklearn import preprocessing #label encoder\n",
    "from sklearn.model_selection import train_test_split #split the dataset\n",
    "from sklearn import datasets, ensemble\n",
    "from sklearn.inspection import permutation_importance\n",
    "from sklearn.metrics import mean_squared_error\n",
    "from sklearn.metrics import accuracy_score #generate accuracy score\n",
    "from sklearn.ensemble import RandomForestRegressor\n",
    "import matplotlib.pyplot as plt\n",
    "from sklearn.metrics import r2_score"
   ]
  },
  {
   "cell_type": "markdown",
   "metadata": {},
   "source": [
    "## Load the dataset\n",
    "I am using the [soccer dataset](https://github.com/fivethirtyeight/data/tree/master/soccer-spi) from FiveThirtyEight.\n",
    "\n",
    "\n",
    "When I viewed the full dataset, I noticed that some rows' scores are not provided. These games have not taken place yet and hence we only have access to their Soccer Power Index (SPI), which [ESPN describes](https://www.espn.com/soccer/news/story/_/id/1873765) as the \"best possible representation of a team's current overall skill level\". This observation will help us to split the data into training data and prediction data later.\n",
    "\n",
    "The first few entries in past dates have scores."
   ]
  },
  {
   "cell_type": "code",
   "execution_count": 72,
   "metadata": {},
   "outputs": [
    {
     "data": {
      "text/html": [
       "<div>\n",
       "<style scoped>\n",
       "    .dataframe tbody tr th:only-of-type {\n",
       "        vertical-align: middle;\n",
       "    }\n",
       "\n",
       "    .dataframe tbody tr th {\n",
       "        vertical-align: top;\n",
       "    }\n",
       "\n",
       "    .dataframe thead th {\n",
       "        text-align: right;\n",
       "    }\n",
       "</style>\n",
       "<table border=\"1\" class=\"dataframe\">\n",
       "  <thead>\n",
       "    <tr style=\"text-align: right;\">\n",
       "      <th></th>\n",
       "      <th>season</th>\n",
       "      <th>date</th>\n",
       "      <th>league_id</th>\n",
       "      <th>league</th>\n",
       "      <th>team1</th>\n",
       "      <th>team2</th>\n",
       "      <th>spi1</th>\n",
       "      <th>spi2</th>\n",
       "      <th>prob1</th>\n",
       "      <th>prob2</th>\n",
       "      <th>...</th>\n",
       "      <th>importance1</th>\n",
       "      <th>importance2</th>\n",
       "      <th>score1</th>\n",
       "      <th>score2</th>\n",
       "      <th>xg1</th>\n",
       "      <th>xg2</th>\n",
       "      <th>nsxg1</th>\n",
       "      <th>nsxg2</th>\n",
       "      <th>adj_score1</th>\n",
       "      <th>adj_score2</th>\n",
       "    </tr>\n",
       "  </thead>\n",
       "  <tbody>\n",
       "    <tr>\n",
       "      <th>0</th>\n",
       "      <td>2016</td>\n",
       "      <td>2016-07-09</td>\n",
       "      <td>7921</td>\n",
       "      <td>FA Women's Super League</td>\n",
       "      <td>Liverpool Women</td>\n",
       "      <td>Reading</td>\n",
       "      <td>51.56</td>\n",
       "      <td>50.42</td>\n",
       "      <td>0.4389</td>\n",
       "      <td>0.2767</td>\n",
       "      <td>...</td>\n",
       "      <td>NaN</td>\n",
       "      <td>NaN</td>\n",
       "      <td>2.0</td>\n",
       "      <td>0.0</td>\n",
       "      <td>NaN</td>\n",
       "      <td>NaN</td>\n",
       "      <td>NaN</td>\n",
       "      <td>NaN</td>\n",
       "      <td>NaN</td>\n",
       "      <td>NaN</td>\n",
       "    </tr>\n",
       "    <tr>\n",
       "      <th>1</th>\n",
       "      <td>2016</td>\n",
       "      <td>2016-07-10</td>\n",
       "      <td>7921</td>\n",
       "      <td>FA Women's Super League</td>\n",
       "      <td>Arsenal Women</td>\n",
       "      <td>Notts County Ladies</td>\n",
       "      <td>46.61</td>\n",
       "      <td>54.03</td>\n",
       "      <td>0.3572</td>\n",
       "      <td>0.3608</td>\n",
       "      <td>...</td>\n",
       "      <td>NaN</td>\n",
       "      <td>NaN</td>\n",
       "      <td>2.0</td>\n",
       "      <td>0.0</td>\n",
       "      <td>NaN</td>\n",
       "      <td>NaN</td>\n",
       "      <td>NaN</td>\n",
       "      <td>NaN</td>\n",
       "      <td>NaN</td>\n",
       "      <td>NaN</td>\n",
       "    </tr>\n",
       "  </tbody>\n",
       "</table>\n",
       "<p>2 rows × 23 columns</p>\n",
       "</div>"
      ],
      "text/plain": [
       "   season        date  league_id                   league            team1  \\\n",
       "0    2016  2016-07-09       7921  FA Women's Super League  Liverpool Women   \n",
       "1    2016  2016-07-10       7921  FA Women's Super League    Arsenal Women   \n",
       "\n",
       "                 team2   spi1   spi2   prob1   prob2  ...  importance1  \\\n",
       "0              Reading  51.56  50.42  0.4389  0.2767  ...          NaN   \n",
       "1  Notts County Ladies  46.61  54.03  0.3572  0.3608  ...          NaN   \n",
       "\n",
       "   importance2  score1  score2  xg1  xg2  nsxg1  nsxg2  adj_score1  adj_score2  \n",
       "0          NaN     2.0     0.0  NaN  NaN    NaN    NaN         NaN         NaN  \n",
       "1          NaN     2.0     0.0  NaN  NaN    NaN    NaN         NaN         NaN  \n",
       "\n",
       "[2 rows x 23 columns]"
      ]
     },
     "execution_count": 72,
     "metadata": {},
     "output_type": "execute_result"
    }
   ],
   "source": [
    "soccer_stats = pd.read_csv('../data/raw/spi_matches.csv')\n",
    "soccer_stats.head(2)"
   ]
  },
  {
   "cell_type": "markdown",
   "metadata": {},
   "source": [
    "While future dates in 2021 do not have score data."
   ]
  },
  {
   "cell_type": "code",
   "execution_count": 73,
   "metadata": {},
   "outputs": [
    {
     "data": {
      "text/html": [
       "<div>\n",
       "<style scoped>\n",
       "    .dataframe tbody tr th:only-of-type {\n",
       "        vertical-align: middle;\n",
       "    }\n",
       "\n",
       "    .dataframe tbody tr th {\n",
       "        vertical-align: top;\n",
       "    }\n",
       "\n",
       "    .dataframe thead th {\n",
       "        text-align: right;\n",
       "    }\n",
       "</style>\n",
       "<table border=\"1\" class=\"dataframe\">\n",
       "  <thead>\n",
       "    <tr style=\"text-align: right;\">\n",
       "      <th></th>\n",
       "      <th>season</th>\n",
       "      <th>date</th>\n",
       "      <th>league_id</th>\n",
       "      <th>league</th>\n",
       "      <th>team1</th>\n",
       "      <th>team2</th>\n",
       "      <th>spi1</th>\n",
       "      <th>spi2</th>\n",
       "      <th>prob1</th>\n",
       "      <th>prob2</th>\n",
       "      <th>...</th>\n",
       "      <th>importance1</th>\n",
       "      <th>importance2</th>\n",
       "      <th>score1</th>\n",
       "      <th>score2</th>\n",
       "      <th>xg1</th>\n",
       "      <th>xg2</th>\n",
       "      <th>nsxg1</th>\n",
       "      <th>nsxg2</th>\n",
       "      <th>adj_score1</th>\n",
       "      <th>adj_score2</th>\n",
       "    </tr>\n",
       "  </thead>\n",
       "  <tbody>\n",
       "    <tr>\n",
       "      <th>42172</th>\n",
       "      <td>2020</td>\n",
       "      <td>2021-05-30</td>\n",
       "      <td>1871</td>\n",
       "      <td>Spanish Segunda Division</td>\n",
       "      <td>Logrones</td>\n",
       "      <td>Las Palmas</td>\n",
       "      <td>29.82</td>\n",
       "      <td>36.56</td>\n",
       "      <td>0.352</td>\n",
       "      <td>0.3751</td>\n",
       "      <td>...</td>\n",
       "      <td>NaN</td>\n",
       "      <td>NaN</td>\n",
       "      <td>NaN</td>\n",
       "      <td>NaN</td>\n",
       "      <td>NaN</td>\n",
       "      <td>NaN</td>\n",
       "      <td>NaN</td>\n",
       "      <td>NaN</td>\n",
       "      <td>NaN</td>\n",
       "      <td>NaN</td>\n",
       "    </tr>\n",
       "    <tr>\n",
       "      <th>42173</th>\n",
       "      <td>2020</td>\n",
       "      <td>2021-05-30</td>\n",
       "      <td>1871</td>\n",
       "      <td>Spanish Segunda Division</td>\n",
       "      <td>Mirandes</td>\n",
       "      <td>CD Sabadell</td>\n",
       "      <td>31.03</td>\n",
       "      <td>30.30</td>\n",
       "      <td>0.435</td>\n",
       "      <td>0.2938</td>\n",
       "      <td>...</td>\n",
       "      <td>NaN</td>\n",
       "      <td>NaN</td>\n",
       "      <td>NaN</td>\n",
       "      <td>NaN</td>\n",
       "      <td>NaN</td>\n",
       "      <td>NaN</td>\n",
       "      <td>NaN</td>\n",
       "      <td>NaN</td>\n",
       "      <td>NaN</td>\n",
       "      <td>NaN</td>\n",
       "    </tr>\n",
       "  </tbody>\n",
       "</table>\n",
       "<p>2 rows × 23 columns</p>\n",
       "</div>"
      ],
      "text/plain": [
       "       season        date  league_id                    league     team1  \\\n",
       "42172    2020  2021-05-30       1871  Spanish Segunda Division  Logrones   \n",
       "42173    2020  2021-05-30       1871  Spanish Segunda Division  Mirandes   \n",
       "\n",
       "             team2   spi1   spi2  prob1   prob2  ...  importance1  \\\n",
       "42172   Las Palmas  29.82  36.56  0.352  0.3751  ...          NaN   \n",
       "42173  CD Sabadell  31.03  30.30  0.435  0.2938  ...          NaN   \n",
       "\n",
       "       importance2  score1  score2  xg1  xg2  nsxg1  nsxg2  adj_score1  \\\n",
       "42172          NaN     NaN     NaN  NaN  NaN    NaN    NaN         NaN   \n",
       "42173          NaN     NaN     NaN  NaN  NaN    NaN    NaN         NaN   \n",
       "\n",
       "       adj_score2  \n",
       "42172         NaN  \n",
       "42173         NaN  \n",
       "\n",
       "[2 rows x 23 columns]"
      ]
     },
     "execution_count": 73,
     "metadata": {},
     "output_type": "execute_result"
    }
   ],
   "source": [
    "soccer_stats.tail(2)"
   ]
  },
  {
   "cell_type": "code",
   "execution_count": 74,
   "metadata": {},
   "outputs": [
    {
     "data": {
      "text/plain": [
       "Index(['season', 'date', 'league_id', 'league', 'team1', 'team2', 'spi1',\n",
       "       'spi2', 'prob1', 'prob2', 'probtie', 'proj_score1', 'proj_score2',\n",
       "       'importance1', 'importance2', 'score1', 'score2', 'xg1', 'xg2', 'nsxg1',\n",
       "       'nsxg2', 'adj_score1', 'adj_score2'],\n",
       "      dtype='object')"
      ]
     },
     "execution_count": 74,
     "metadata": {},
     "output_type": "execute_result"
    }
   ],
   "source": [
    "soccer_stats.keys()"
   ]
  },
  {
   "cell_type": "markdown",
   "metadata": {},
   "source": [
    "I understood what the columns meant through some research on an [rdrr.io dataset page](https://rdrr.io/github/fivethirtyeightdata/fivethirtyeightdata/man/spi_matches.html) \n",
    "\n",
    "- **season:** Season of the soccer game.\n",
    "\n",
    "- **date:** The date that the match took place.\n",
    "\n",
    "- **league_id:** A numerical identifier of the league within which the match was played.\n",
    "\n",
    "- **league:** League name.\n",
    "\n",
    "- **team1:** One team that participated in the match.\n",
    "\n",
    "- **team2:** The other team that participated in the match.\n",
    "\n",
    "- **spi1:** The SPI score of team1.\n",
    "\n",
    "- **spi2:** The SPI score of team2.\n",
    "\n",
    "- **prob1:** The probability that team1 would have won the match.\n",
    "\n",
    "- **prob2:** The probability that team2 would have won the match.\n",
    "\n",
    "- **probtie:** The probability that the match would have resulted in a tie.\n",
    "\n",
    "- **proj_score1:** The predicted number of goals that team1 would have scored.\n",
    "\n",
    "- **proj_score2:** The predicted number of goals that team2 would have scored.\n",
    "\n",
    "- **score1:** The number of goals that team1 scored.\n",
    "\n",
    "- **score2:** The number of goals that team2 scored.\n",
    "\n",
    "The following columns did not have any description importance1, importance2, xg1, xg2, nsxg1, nsxg2, adj_score1, adj_score2 and seem to have NaN values for some rows."
   ]
  },
  {
   "cell_type": "markdown",
   "metadata": {},
   "source": [
    "## Data Preparation\n",
    "###  Cleaning"
   ]
  },
  {
   "cell_type": "markdown",
   "metadata": {},
   "source": [
    "Remove columns without descriptions. Since we do not have enough information  about these columns, we cannot make educated decisions about how it affects the dataset. So, we drop them:"
   ]
  },
  {
   "cell_type": "code",
   "execution_count": 75,
   "metadata": {},
   "outputs": [],
   "source": [
    "soccer_stats = soccer_stats.drop(columns=['importance1', 'importance2', 'xg1', 'xg2', 'nsxg1', 'nsxg2', 'adj_score1', 'adj_score2']) "
   ]
  },
  {
   "cell_type": "markdown",
   "metadata": {},
   "source": [
    "This is how it looks:"
   ]
  },
  {
   "cell_type": "code",
   "execution_count": 76,
   "metadata": {},
   "outputs": [
    {
     "data": {
      "text/html": [
       "<div>\n",
       "<style scoped>\n",
       "    .dataframe tbody tr th:only-of-type {\n",
       "        vertical-align: middle;\n",
       "    }\n",
       "\n",
       "    .dataframe tbody tr th {\n",
       "        vertical-align: top;\n",
       "    }\n",
       "\n",
       "    .dataframe thead th {\n",
       "        text-align: right;\n",
       "    }\n",
       "</style>\n",
       "<table border=\"1\" class=\"dataframe\">\n",
       "  <thead>\n",
       "    <tr style=\"text-align: right;\">\n",
       "      <th></th>\n",
       "      <th>season</th>\n",
       "      <th>date</th>\n",
       "      <th>league_id</th>\n",
       "      <th>league</th>\n",
       "      <th>team1</th>\n",
       "      <th>team2</th>\n",
       "      <th>spi1</th>\n",
       "      <th>spi2</th>\n",
       "      <th>prob1</th>\n",
       "      <th>prob2</th>\n",
       "      <th>probtie</th>\n",
       "      <th>proj_score1</th>\n",
       "      <th>proj_score2</th>\n",
       "      <th>score1</th>\n",
       "      <th>score2</th>\n",
       "    </tr>\n",
       "  </thead>\n",
       "  <tbody>\n",
       "    <tr>\n",
       "      <th>0</th>\n",
       "      <td>2016</td>\n",
       "      <td>2016-07-09</td>\n",
       "      <td>7921</td>\n",
       "      <td>FA Women's Super League</td>\n",
       "      <td>Liverpool Women</td>\n",
       "      <td>Reading</td>\n",
       "      <td>51.56</td>\n",
       "      <td>50.42</td>\n",
       "      <td>0.4389</td>\n",
       "      <td>0.2767</td>\n",
       "      <td>0.2844</td>\n",
       "      <td>1.39</td>\n",
       "      <td>1.05</td>\n",
       "      <td>2.0</td>\n",
       "      <td>0.0</td>\n",
       "    </tr>\n",
       "    <tr>\n",
       "      <th>1</th>\n",
       "      <td>2016</td>\n",
       "      <td>2016-07-10</td>\n",
       "      <td>7921</td>\n",
       "      <td>FA Women's Super League</td>\n",
       "      <td>Arsenal Women</td>\n",
       "      <td>Notts County Ladies</td>\n",
       "      <td>46.61</td>\n",
       "      <td>54.03</td>\n",
       "      <td>0.3572</td>\n",
       "      <td>0.3608</td>\n",
       "      <td>0.2819</td>\n",
       "      <td>1.27</td>\n",
       "      <td>1.28</td>\n",
       "      <td>2.0</td>\n",
       "      <td>0.0</td>\n",
       "    </tr>\n",
       "    <tr>\n",
       "      <th>2</th>\n",
       "      <td>2016</td>\n",
       "      <td>2016-07-10</td>\n",
       "      <td>7921</td>\n",
       "      <td>FA Women's Super League</td>\n",
       "      <td>Chelsea FC Women</td>\n",
       "      <td>Birmingham City</td>\n",
       "      <td>59.85</td>\n",
       "      <td>54.64</td>\n",
       "      <td>0.4799</td>\n",
       "      <td>0.2487</td>\n",
       "      <td>0.2714</td>\n",
       "      <td>1.53</td>\n",
       "      <td>1.03</td>\n",
       "      <td>1.0</td>\n",
       "      <td>1.0</td>\n",
       "    </tr>\n",
       "    <tr>\n",
       "      <th>3</th>\n",
       "      <td>2016</td>\n",
       "      <td>2016-07-16</td>\n",
       "      <td>7921</td>\n",
       "      <td>FA Women's Super League</td>\n",
       "      <td>Liverpool Women</td>\n",
       "      <td>Notts County Ladies</td>\n",
       "      <td>53.00</td>\n",
       "      <td>52.35</td>\n",
       "      <td>0.4289</td>\n",
       "      <td>0.2699</td>\n",
       "      <td>0.3013</td>\n",
       "      <td>1.27</td>\n",
       "      <td>0.94</td>\n",
       "      <td>0.0</td>\n",
       "      <td>0.0</td>\n",
       "    </tr>\n",
       "    <tr>\n",
       "      <th>4</th>\n",
       "      <td>2016</td>\n",
       "      <td>2016-07-17</td>\n",
       "      <td>7921</td>\n",
       "      <td>FA Women's Super League</td>\n",
       "      <td>Chelsea FC Women</td>\n",
       "      <td>Arsenal Women</td>\n",
       "      <td>59.43</td>\n",
       "      <td>60.99</td>\n",
       "      <td>0.4124</td>\n",
       "      <td>0.3157</td>\n",
       "      <td>0.2719</td>\n",
       "      <td>1.45</td>\n",
       "      <td>1.24</td>\n",
       "      <td>1.0</td>\n",
       "      <td>2.0</td>\n",
       "    </tr>\n",
       "  </tbody>\n",
       "</table>\n",
       "</div>"
      ],
      "text/plain": [
       "   season        date  league_id                   league             team1  \\\n",
       "0    2016  2016-07-09       7921  FA Women's Super League   Liverpool Women   \n",
       "1    2016  2016-07-10       7921  FA Women's Super League     Arsenal Women   \n",
       "2    2016  2016-07-10       7921  FA Women's Super League  Chelsea FC Women   \n",
       "3    2016  2016-07-16       7921  FA Women's Super League   Liverpool Women   \n",
       "4    2016  2016-07-17       7921  FA Women's Super League  Chelsea FC Women   \n",
       "\n",
       "                 team2   spi1   spi2   prob1   prob2  probtie  proj_score1  \\\n",
       "0              Reading  51.56  50.42  0.4389  0.2767   0.2844         1.39   \n",
       "1  Notts County Ladies  46.61  54.03  0.3572  0.3608   0.2819         1.27   \n",
       "2      Birmingham City  59.85  54.64  0.4799  0.2487   0.2714         1.53   \n",
       "3  Notts County Ladies  53.00  52.35  0.4289  0.2699   0.3013         1.27   \n",
       "4        Arsenal Women  59.43  60.99  0.4124  0.3157   0.2719         1.45   \n",
       "\n",
       "   proj_score2  score1  score2  \n",
       "0         1.05     2.0     0.0  \n",
       "1         1.28     2.0     0.0  \n",
       "2         1.03     1.0     1.0  \n",
       "3         0.94     0.0     0.0  \n",
       "4         1.24     1.0     2.0  "
      ]
     },
     "execution_count": 76,
     "metadata": {},
     "output_type": "execute_result"
    }
   ],
   "source": [
    "soccer_stats.head()"
   ]
  },
  {
   "cell_type": "markdown",
   "metadata": {},
   "source": [
    "## Feature Engineering\n",
    "### Extraction\n",
    "I separate the date column into three date, month and year. The season and year seem to not always align because a season may span between two years."
   ]
  },
  {
   "cell_type": "code",
   "execution_count": 77,
   "metadata": {},
   "outputs": [
    {
     "data": {
      "text/html": [
       "<div>\n",
       "<style scoped>\n",
       "    .dataframe tbody tr th:only-of-type {\n",
       "        vertical-align: middle;\n",
       "    }\n",
       "\n",
       "    .dataframe tbody tr th {\n",
       "        vertical-align: top;\n",
       "    }\n",
       "\n",
       "    .dataframe thead th {\n",
       "        text-align: right;\n",
       "    }\n",
       "</style>\n",
       "<table border=\"1\" class=\"dataframe\">\n",
       "  <thead>\n",
       "    <tr style=\"text-align: right;\">\n",
       "      <th></th>\n",
       "      <th>season</th>\n",
       "      <th>league_id</th>\n",
       "      <th>league</th>\n",
       "      <th>team1</th>\n",
       "      <th>team2</th>\n",
       "      <th>spi1</th>\n",
       "      <th>spi2</th>\n",
       "      <th>prob1</th>\n",
       "      <th>prob2</th>\n",
       "      <th>probtie</th>\n",
       "      <th>proj_score1</th>\n",
       "      <th>proj_score2</th>\n",
       "      <th>score1</th>\n",
       "      <th>score2</th>\n",
       "      <th>Year</th>\n",
       "      <th>Month</th>\n",
       "      <th>Date</th>\n",
       "    </tr>\n",
       "  </thead>\n",
       "  <tbody>\n",
       "    <tr>\n",
       "      <th>0</th>\n",
       "      <td>2016</td>\n",
       "      <td>7921</td>\n",
       "      <td>FA Women's Super League</td>\n",
       "      <td>Liverpool Women</td>\n",
       "      <td>Reading</td>\n",
       "      <td>51.56</td>\n",
       "      <td>50.42</td>\n",
       "      <td>0.4389</td>\n",
       "      <td>0.2767</td>\n",
       "      <td>0.2844</td>\n",
       "      <td>1.39</td>\n",
       "      <td>1.05</td>\n",
       "      <td>2.0</td>\n",
       "      <td>0.0</td>\n",
       "      <td>2016</td>\n",
       "      <td>07</td>\n",
       "      <td>09</td>\n",
       "    </tr>\n",
       "    <tr>\n",
       "      <th>1</th>\n",
       "      <td>2016</td>\n",
       "      <td>7921</td>\n",
       "      <td>FA Women's Super League</td>\n",
       "      <td>Arsenal Women</td>\n",
       "      <td>Notts County Ladies</td>\n",
       "      <td>46.61</td>\n",
       "      <td>54.03</td>\n",
       "      <td>0.3572</td>\n",
       "      <td>0.3608</td>\n",
       "      <td>0.2819</td>\n",
       "      <td>1.27</td>\n",
       "      <td>1.28</td>\n",
       "      <td>2.0</td>\n",
       "      <td>0.0</td>\n",
       "      <td>2016</td>\n",
       "      <td>07</td>\n",
       "      <td>10</td>\n",
       "    </tr>\n",
       "    <tr>\n",
       "      <th>2</th>\n",
       "      <td>2016</td>\n",
       "      <td>7921</td>\n",
       "      <td>FA Women's Super League</td>\n",
       "      <td>Chelsea FC Women</td>\n",
       "      <td>Birmingham City</td>\n",
       "      <td>59.85</td>\n",
       "      <td>54.64</td>\n",
       "      <td>0.4799</td>\n",
       "      <td>0.2487</td>\n",
       "      <td>0.2714</td>\n",
       "      <td>1.53</td>\n",
       "      <td>1.03</td>\n",
       "      <td>1.0</td>\n",
       "      <td>1.0</td>\n",
       "      <td>2016</td>\n",
       "      <td>07</td>\n",
       "      <td>10</td>\n",
       "    </tr>\n",
       "    <tr>\n",
       "      <th>3</th>\n",
       "      <td>2016</td>\n",
       "      <td>7921</td>\n",
       "      <td>FA Women's Super League</td>\n",
       "      <td>Liverpool Women</td>\n",
       "      <td>Notts County Ladies</td>\n",
       "      <td>53.00</td>\n",
       "      <td>52.35</td>\n",
       "      <td>0.4289</td>\n",
       "      <td>0.2699</td>\n",
       "      <td>0.3013</td>\n",
       "      <td>1.27</td>\n",
       "      <td>0.94</td>\n",
       "      <td>0.0</td>\n",
       "      <td>0.0</td>\n",
       "      <td>2016</td>\n",
       "      <td>07</td>\n",
       "      <td>16</td>\n",
       "    </tr>\n",
       "    <tr>\n",
       "      <th>4</th>\n",
       "      <td>2016</td>\n",
       "      <td>7921</td>\n",
       "      <td>FA Women's Super League</td>\n",
       "      <td>Chelsea FC Women</td>\n",
       "      <td>Arsenal Women</td>\n",
       "      <td>59.43</td>\n",
       "      <td>60.99</td>\n",
       "      <td>0.4124</td>\n",
       "      <td>0.3157</td>\n",
       "      <td>0.2719</td>\n",
       "      <td>1.45</td>\n",
       "      <td>1.24</td>\n",
       "      <td>1.0</td>\n",
       "      <td>2.0</td>\n",
       "      <td>2016</td>\n",
       "      <td>07</td>\n",
       "      <td>17</td>\n",
       "    </tr>\n",
       "  </tbody>\n",
       "</table>\n",
       "</div>"
      ],
      "text/plain": [
       "   season  league_id                   league             team1  \\\n",
       "0    2016       7921  FA Women's Super League   Liverpool Women   \n",
       "1    2016       7921  FA Women's Super League     Arsenal Women   \n",
       "2    2016       7921  FA Women's Super League  Chelsea FC Women   \n",
       "3    2016       7921  FA Women's Super League   Liverpool Women   \n",
       "4    2016       7921  FA Women's Super League  Chelsea FC Women   \n",
       "\n",
       "                 team2   spi1   spi2   prob1   prob2  probtie  proj_score1  \\\n",
       "0              Reading  51.56  50.42  0.4389  0.2767   0.2844         1.39   \n",
       "1  Notts County Ladies  46.61  54.03  0.3572  0.3608   0.2819         1.27   \n",
       "2      Birmingham City  59.85  54.64  0.4799  0.2487   0.2714         1.53   \n",
       "3  Notts County Ladies  53.00  52.35  0.4289  0.2699   0.3013         1.27   \n",
       "4        Arsenal Women  59.43  60.99  0.4124  0.3157   0.2719         1.45   \n",
       "\n",
       "   proj_score2  score1  score2  Year Month Date  \n",
       "0         1.05     2.0     0.0  2016    07   09  \n",
       "1         1.28     2.0     0.0  2016    07   10  \n",
       "2         1.03     1.0     1.0  2016    07   10  \n",
       "3         0.94     0.0     0.0  2016    07   16  \n",
       "4         1.24     1.0     2.0  2016    07   17  "
      ]
     },
     "execution_count": 77,
     "metadata": {},
     "output_type": "execute_result"
    }
   ],
   "source": [
    "soccer_stats[['Year','Month', 'Date']] = soccer_stats.date.str.split(\"-\",expand=True)\n",
    "soccer_stats = soccer_stats.drop(columns=['date'])\n",
    "soccer_stats.head()"
   ]
  },
  {
   "cell_type": "markdown",
   "metadata": {},
   "source": [
    "### Transformation\n",
    "To perform statistical analysis and to pass the data into the regression models, I encode the strings into integer values as the models do not work with strings.\n",
    "\n",
    "**League Name**"
   ]
  },
  {
   "cell_type": "code",
   "execution_count": 78,
   "metadata": {},
   "outputs": [],
   "source": [
    "league_encode = preprocessing.LabelEncoder()\n",
    "league_encode.fit(soccer_stats['league'])\n",
    "soccer_stats['league'] = league_encode.transform(soccer_stats['league'])"
   ]
  },
  {
   "cell_type": "markdown",
   "metadata": {},
   "source": [
    "**Team names**"
   ]
  },
  {
   "cell_type": "code",
   "execution_count": 79,
   "metadata": {},
   "outputs": [],
   "source": [
    "team1_encode = preprocessing.LabelEncoder()\n",
    "team1_encode.fit(soccer_stats['team1'])\n",
    "soccer_stats['team1'] = team1_encode.transform(soccer_stats['team1'])\n",
    "\n",
    "team2_encode = preprocessing.LabelEncoder()\n",
    "team2_encode.fit(soccer_stats['team2'])\n",
    "soccer_stats['team2'] = team2_encode.transform(soccer_stats['team2'])"
   ]
  },
  {
   "cell_type": "markdown",
   "metadata": {},
   "source": [
    "Encoded data looks like this:"
   ]
  },
  {
   "cell_type": "code",
   "execution_count": 80,
   "metadata": {},
   "outputs": [
    {
     "data": {
      "text/html": [
       "<div>\n",
       "<style scoped>\n",
       "    .dataframe tbody tr th:only-of-type {\n",
       "        vertical-align: middle;\n",
       "    }\n",
       "\n",
       "    .dataframe tbody tr th {\n",
       "        vertical-align: top;\n",
       "    }\n",
       "\n",
       "    .dataframe thead th {\n",
       "        text-align: right;\n",
       "    }\n",
       "</style>\n",
       "<table border=\"1\" class=\"dataframe\">\n",
       "  <thead>\n",
       "    <tr style=\"text-align: right;\">\n",
       "      <th></th>\n",
       "      <th>season</th>\n",
       "      <th>league_id</th>\n",
       "      <th>league</th>\n",
       "      <th>team1</th>\n",
       "      <th>team2</th>\n",
       "      <th>spi1</th>\n",
       "      <th>spi2</th>\n",
       "      <th>prob1</th>\n",
       "      <th>prob2</th>\n",
       "      <th>probtie</th>\n",
       "      <th>proj_score1</th>\n",
       "      <th>proj_score2</th>\n",
       "      <th>score1</th>\n",
       "      <th>score2</th>\n",
       "      <th>Year</th>\n",
       "      <th>Month</th>\n",
       "      <th>Date</th>\n",
       "    </tr>\n",
       "  </thead>\n",
       "  <tbody>\n",
       "    <tr>\n",
       "      <th>0</th>\n",
       "      <td>2016</td>\n",
       "      <td>7921</td>\n",
       "      <td>12</td>\n",
       "      <td>421</td>\n",
       "      <td>576</td>\n",
       "      <td>51.56</td>\n",
       "      <td>50.42</td>\n",
       "      <td>0.4389</td>\n",
       "      <td>0.2767</td>\n",
       "      <td>0.2844</td>\n",
       "      <td>1.39</td>\n",
       "      <td>1.05</td>\n",
       "      <td>2.0</td>\n",
       "      <td>0.0</td>\n",
       "      <td>2016</td>\n",
       "      <td>07</td>\n",
       "      <td>09</td>\n",
       "    </tr>\n",
       "    <tr>\n",
       "      <th>1</th>\n",
       "      <td>2016</td>\n",
       "      <td>7921</td>\n",
       "      <td>12</td>\n",
       "      <td>52</td>\n",
       "      <td>503</td>\n",
       "      <td>46.61</td>\n",
       "      <td>54.03</td>\n",
       "      <td>0.3572</td>\n",
       "      <td>0.3608</td>\n",
       "      <td>0.2819</td>\n",
       "      <td>1.27</td>\n",
       "      <td>1.28</td>\n",
       "      <td>2.0</td>\n",
       "      <td>0.0</td>\n",
       "      <td>2016</td>\n",
       "      <td>07</td>\n",
       "      <td>10</td>\n",
       "    </tr>\n",
       "    <tr>\n",
       "      <th>2</th>\n",
       "      <td>2016</td>\n",
       "      <td>7921</td>\n",
       "      <td>12</td>\n",
       "      <td>165</td>\n",
       "      <td>95</td>\n",
       "      <td>59.85</td>\n",
       "      <td>54.64</td>\n",
       "      <td>0.4799</td>\n",
       "      <td>0.2487</td>\n",
       "      <td>0.2714</td>\n",
       "      <td>1.53</td>\n",
       "      <td>1.03</td>\n",
       "      <td>1.0</td>\n",
       "      <td>1.0</td>\n",
       "      <td>2016</td>\n",
       "      <td>07</td>\n",
       "      <td>10</td>\n",
       "    </tr>\n",
       "    <tr>\n",
       "      <th>3</th>\n",
       "      <td>2016</td>\n",
       "      <td>7921</td>\n",
       "      <td>12</td>\n",
       "      <td>421</td>\n",
       "      <td>503</td>\n",
       "      <td>53.00</td>\n",
       "      <td>52.35</td>\n",
       "      <td>0.4289</td>\n",
       "      <td>0.2699</td>\n",
       "      <td>0.3013</td>\n",
       "      <td>1.27</td>\n",
       "      <td>0.94</td>\n",
       "      <td>0.0</td>\n",
       "      <td>0.0</td>\n",
       "      <td>2016</td>\n",
       "      <td>07</td>\n",
       "      <td>16</td>\n",
       "    </tr>\n",
       "    <tr>\n",
       "      <th>4</th>\n",
       "      <td>2016</td>\n",
       "      <td>7921</td>\n",
       "      <td>12</td>\n",
       "      <td>165</td>\n",
       "      <td>52</td>\n",
       "      <td>59.43</td>\n",
       "      <td>60.99</td>\n",
       "      <td>0.4124</td>\n",
       "      <td>0.3157</td>\n",
       "      <td>0.2719</td>\n",
       "      <td>1.45</td>\n",
       "      <td>1.24</td>\n",
       "      <td>1.0</td>\n",
       "      <td>2.0</td>\n",
       "      <td>2016</td>\n",
       "      <td>07</td>\n",
       "      <td>17</td>\n",
       "    </tr>\n",
       "    <tr>\n",
       "      <th>...</th>\n",
       "      <td>...</td>\n",
       "      <td>...</td>\n",
       "      <td>...</td>\n",
       "      <td>...</td>\n",
       "      <td>...</td>\n",
       "      <td>...</td>\n",
       "      <td>...</td>\n",
       "      <td>...</td>\n",
       "      <td>...</td>\n",
       "      <td>...</td>\n",
       "      <td>...</td>\n",
       "      <td>...</td>\n",
       "      <td>...</td>\n",
       "      <td>...</td>\n",
       "      <td>...</td>\n",
       "      <td>...</td>\n",
       "      <td>...</td>\n",
       "    </tr>\n",
       "    <tr>\n",
       "      <th>42169</th>\n",
       "      <td>2020</td>\n",
       "      <td>1871</td>\n",
       "      <td>32</td>\n",
       "      <td>477</td>\n",
       "      <td>145</td>\n",
       "      <td>32.93</td>\n",
       "      <td>31.26</td>\n",
       "      <td>0.4454</td>\n",
       "      <td>0.2502</td>\n",
       "      <td>0.3044</td>\n",
       "      <td>1.32</td>\n",
       "      <td>0.92</td>\n",
       "      <td>NaN</td>\n",
       "      <td>NaN</td>\n",
       "      <td>2021</td>\n",
       "      <td>05</td>\n",
       "      <td>30</td>\n",
       "    </tr>\n",
       "    <tr>\n",
       "      <th>42170</th>\n",
       "      <td>2020</td>\n",
       "      <td>1871</td>\n",
       "      <td>32</td>\n",
       "      <td>8</td>\n",
       "      <td>226</td>\n",
       "      <td>32.99</td>\n",
       "      <td>62.03</td>\n",
       "      <td>0.1724</td>\n",
       "      <td>0.5793</td>\n",
       "      <td>0.2483</td>\n",
       "      <td>0.87</td>\n",
       "      <td>1.81</td>\n",
       "      <td>NaN</td>\n",
       "      <td>NaN</td>\n",
       "      <td>2021</td>\n",
       "      <td>05</td>\n",
       "      <td>30</td>\n",
       "    </tr>\n",
       "    <tr>\n",
       "      <th>42171</th>\n",
       "      <td>2020</td>\n",
       "      <td>1871</td>\n",
       "      <td>32</td>\n",
       "      <td>241</td>\n",
       "      <td>314</td>\n",
       "      <td>29.81</td>\n",
       "      <td>39.15</td>\n",
       "      <td>0.3196</td>\n",
       "      <td>0.3964</td>\n",
       "      <td>0.2840</td>\n",
       "      <td>1.23</td>\n",
       "      <td>1.40</td>\n",
       "      <td>NaN</td>\n",
       "      <td>NaN</td>\n",
       "      <td>2021</td>\n",
       "      <td>05</td>\n",
       "      <td>30</td>\n",
       "    </tr>\n",
       "    <tr>\n",
       "      <th>42172</th>\n",
       "      <td>2020</td>\n",
       "      <td>1871</td>\n",
       "      <td>32</td>\n",
       "      <td>425</td>\n",
       "      <td>401</td>\n",
       "      <td>29.82</td>\n",
       "      <td>36.56</td>\n",
       "      <td>0.3520</td>\n",
       "      <td>0.3751</td>\n",
       "      <td>0.2728</td>\n",
       "      <td>1.39</td>\n",
       "      <td>1.45</td>\n",
       "      <td>NaN</td>\n",
       "      <td>NaN</td>\n",
       "      <td>2021</td>\n",
       "      <td>05</td>\n",
       "      <td>30</td>\n",
       "    </tr>\n",
       "    <tr>\n",
       "      <th>42173</th>\n",
       "      <td>2020</td>\n",
       "      <td>1871</td>\n",
       "      <td>32</td>\n",
       "      <td>464</td>\n",
       "      <td>133</td>\n",
       "      <td>31.03</td>\n",
       "      <td>30.30</td>\n",
       "      <td>0.4350</td>\n",
       "      <td>0.2938</td>\n",
       "      <td>0.2712</td>\n",
       "      <td>1.56</td>\n",
       "      <td>1.24</td>\n",
       "      <td>NaN</td>\n",
       "      <td>NaN</td>\n",
       "      <td>2021</td>\n",
       "      <td>05</td>\n",
       "      <td>30</td>\n",
       "    </tr>\n",
       "  </tbody>\n",
       "</table>\n",
       "<p>42174 rows × 17 columns</p>\n",
       "</div>"
      ],
      "text/plain": [
       "       season  league_id  league  team1  team2   spi1   spi2   prob1   prob2  \\\n",
       "0        2016       7921      12    421    576  51.56  50.42  0.4389  0.2767   \n",
       "1        2016       7921      12     52    503  46.61  54.03  0.3572  0.3608   \n",
       "2        2016       7921      12    165     95  59.85  54.64  0.4799  0.2487   \n",
       "3        2016       7921      12    421    503  53.00  52.35  0.4289  0.2699   \n",
       "4        2016       7921      12    165     52  59.43  60.99  0.4124  0.3157   \n",
       "...       ...        ...     ...    ...    ...    ...    ...     ...     ...   \n",
       "42169    2020       1871      32    477    145  32.93  31.26  0.4454  0.2502   \n",
       "42170    2020       1871      32      8    226  32.99  62.03  0.1724  0.5793   \n",
       "42171    2020       1871      32    241    314  29.81  39.15  0.3196  0.3964   \n",
       "42172    2020       1871      32    425    401  29.82  36.56  0.3520  0.3751   \n",
       "42173    2020       1871      32    464    133  31.03  30.30  0.4350  0.2938   \n",
       "\n",
       "       probtie  proj_score1  proj_score2  score1  score2  Year Month Date  \n",
       "0       0.2844         1.39         1.05     2.0     0.0  2016    07   09  \n",
       "1       0.2819         1.27         1.28     2.0     0.0  2016    07   10  \n",
       "2       0.2714         1.53         1.03     1.0     1.0  2016    07   10  \n",
       "3       0.3013         1.27         0.94     0.0     0.0  2016    07   16  \n",
       "4       0.2719         1.45         1.24     1.0     2.0  2016    07   17  \n",
       "...        ...          ...          ...     ...     ...   ...   ...  ...  \n",
       "42169   0.3044         1.32         0.92     NaN     NaN  2021    05   30  \n",
       "42170   0.2483         0.87         1.81     NaN     NaN  2021    05   30  \n",
       "42171   0.2840         1.23         1.40     NaN     NaN  2021    05   30  \n",
       "42172   0.2728         1.39         1.45     NaN     NaN  2021    05   30  \n",
       "42173   0.2712         1.56         1.24     NaN     NaN  2021    05   30  \n",
       "\n",
       "[42174 rows x 17 columns]"
      ]
     },
     "execution_count": 80,
     "metadata": {},
     "output_type": "execute_result"
    }
   ],
   "source": [
    "soccer_stats"
   ]
  },
  {
   "cell_type": "markdown",
   "metadata": {},
   "source": [
    "## Create Training and Predict Data\n",
    "My objective is to predict the scores for future games, by using the scores of the games that have already occured.\n",
    "- **Training data:** rows of games that have already occured, which contain the scores data\n",
    "- **Prediction data:** rows of future games without the scores date"
   ]
  },
  {
   "cell_type": "code",
   "execution_count": 81,
   "metadata": {},
   "outputs": [
    {
     "data": {
      "text/plain": [
       "(34399, 17)"
      ]
     },
     "execution_count": 81,
     "metadata": {},
     "output_type": "execute_result"
    }
   ],
   "source": [
    "predict_data = soccer_stats[soccer_stats['score1'].isnull()]\n",
    "train_data = soccer_stats.dropna()\n",
    "train_data.shape"
   ]
  },
  {
   "cell_type": "code",
   "execution_count": 82,
   "metadata": {},
   "outputs": [
    {
     "data": {
      "text/plain": [
       "(7775, 17)"
      ]
     },
     "execution_count": 82,
     "metadata": {},
     "output_type": "execute_result"
    }
   ],
   "source": [
    "predict_data.shape"
   ]
  },
  {
   "cell_type": "markdown",
   "metadata": {},
   "source": [
    "To ensure that I separated the data into test and training data, I check if the sum of the number of rows is equal to the rows in the original dataset"
   ]
  },
  {
   "cell_type": "code",
   "execution_count": 83,
   "metadata": {},
   "outputs": [
    {
     "data": {
      "text/plain": [
       "True"
      ]
     },
     "execution_count": 83,
     "metadata": {},
     "output_type": "execute_result"
    }
   ],
   "source": [
    "(34399+7775) == soccer_stats.shape[0]"
   ]
  },
  {
   "cell_type": "markdown",
   "metadata": {},
   "source": [
    "I remove the score columns entirely from the predict_data of the future games"
   ]
  },
  {
   "cell_type": "code",
   "execution_count": 84,
   "metadata": {},
   "outputs": [
    {
     "data": {
      "text/html": [
       "<div>\n",
       "<style scoped>\n",
       "    .dataframe tbody tr th:only-of-type {\n",
       "        vertical-align: middle;\n",
       "    }\n",
       "\n",
       "    .dataframe tbody tr th {\n",
       "        vertical-align: top;\n",
       "    }\n",
       "\n",
       "    .dataframe thead th {\n",
       "        text-align: right;\n",
       "    }\n",
       "</style>\n",
       "<table border=\"1\" class=\"dataframe\">\n",
       "  <thead>\n",
       "    <tr style=\"text-align: right;\">\n",
       "      <th></th>\n",
       "      <th>season</th>\n",
       "      <th>league_id</th>\n",
       "      <th>league</th>\n",
       "      <th>team1</th>\n",
       "      <th>team2</th>\n",
       "      <th>spi1</th>\n",
       "      <th>spi2</th>\n",
       "      <th>prob1</th>\n",
       "      <th>prob2</th>\n",
       "      <th>probtie</th>\n",
       "      <th>proj_score1</th>\n",
       "      <th>proj_score2</th>\n",
       "      <th>Year</th>\n",
       "      <th>Month</th>\n",
       "      <th>Date</th>\n",
       "    </tr>\n",
       "  </thead>\n",
       "  <tbody>\n",
       "    <tr>\n",
       "      <th>26893</th>\n",
       "      <td>2019</td>\n",
       "      <td>2417</td>\n",
       "      <td>29</td>\n",
       "      <td>571</td>\n",
       "      <td>679</td>\n",
       "      <td>61.23</td>\n",
       "      <td>19.87</td>\n",
       "      <td>0.8589</td>\n",
       "      <td>0.0224</td>\n",
       "      <td>0.1187</td>\n",
       "      <td>2.31</td>\n",
       "      <td>0.20</td>\n",
       "      <td>2019</td>\n",
       "      <td>11</td>\n",
       "      <td>02</td>\n",
       "    </tr>\n",
       "    <tr>\n",
       "      <th>29062</th>\n",
       "      <td>2019</td>\n",
       "      <td>7921</td>\n",
       "      <td>12</td>\n",
       "      <td>421</td>\n",
       "      <td>447</td>\n",
       "      <td>40.26</td>\n",
       "      <td>56.87</td>\n",
       "      <td>0.2736</td>\n",
       "      <td>0.4652</td>\n",
       "      <td>0.2612</td>\n",
       "      <td>1.18</td>\n",
       "      <td>1.61</td>\n",
       "      <td>2020</td>\n",
       "      <td>01</td>\n",
       "      <td>11</td>\n",
       "    </tr>\n",
       "    <tr>\n",
       "      <th>29666</th>\n",
       "      <td>2019</td>\n",
       "      <td>7921</td>\n",
       "      <td>12</td>\n",
       "      <td>421</td>\n",
       "      <td>95</td>\n",
       "      <td>40.26</td>\n",
       "      <td>47.79</td>\n",
       "      <td>0.3517</td>\n",
       "      <td>0.3525</td>\n",
       "      <td>0.2958</td>\n",
       "      <td>1.17</td>\n",
       "      <td>1.18</td>\n",
       "      <td>2020</td>\n",
       "      <td>02</td>\n",
       "      <td>01</td>\n",
       "    </tr>\n",
       "    <tr>\n",
       "      <th>29894</th>\n",
       "      <td>2019</td>\n",
       "      <td>7921</td>\n",
       "      <td>12</td>\n",
       "      <td>95</td>\n",
       "      <td>119</td>\n",
       "      <td>47.79</td>\n",
       "      <td>48.48</td>\n",
       "      <td>0.4178</td>\n",
       "      <td>0.2870</td>\n",
       "      <td>0.2952</td>\n",
       "      <td>1.29</td>\n",
       "      <td>1.02</td>\n",
       "      <td>2020</td>\n",
       "      <td>02</td>\n",
       "      <td>09</td>\n",
       "    </tr>\n",
       "    <tr>\n",
       "      <th>29895</th>\n",
       "      <td>2019</td>\n",
       "      <td>7921</td>\n",
       "      <td>12</td>\n",
       "      <td>122</td>\n",
       "      <td>576</td>\n",
       "      <td>37.87</td>\n",
       "      <td>52.45</td>\n",
       "      <td>0.2950</td>\n",
       "      <td>0.4666</td>\n",
       "      <td>0.2384</td>\n",
       "      <td>1.45</td>\n",
       "      <td>1.87</td>\n",
       "      <td>2020</td>\n",
       "      <td>02</td>\n",
       "      <td>09</td>\n",
       "    </tr>\n",
       "  </tbody>\n",
       "</table>\n",
       "</div>"
      ],
      "text/plain": [
       "       season  league_id  league  team1  team2   spi1   spi2   prob1   prob2  \\\n",
       "26893    2019       2417      29    571    679  61.23  19.87  0.8589  0.0224   \n",
       "29062    2019       7921      12    421    447  40.26  56.87  0.2736  0.4652   \n",
       "29666    2019       7921      12    421     95  40.26  47.79  0.3517  0.3525   \n",
       "29894    2019       7921      12     95    119  47.79  48.48  0.4178  0.2870   \n",
       "29895    2019       7921      12    122    576  37.87  52.45  0.2950  0.4666   \n",
       "\n",
       "       probtie  proj_score1  proj_score2  Year Month Date  \n",
       "26893   0.1187         2.31         0.20  2019    11   02  \n",
       "29062   0.2612         1.18         1.61  2020    01   11  \n",
       "29666   0.2958         1.17         1.18  2020    02   01  \n",
       "29894   0.2952         1.29         1.02  2020    02   09  \n",
       "29895   0.2384         1.45         1.87  2020    02   09  "
      ]
     },
     "execution_count": 84,
     "metadata": {},
     "output_type": "execute_result"
    }
   ],
   "source": [
    "predict_data = predict_data.drop(columns=['score1', 'score2'])\n",
    "predict_data.head()"
   ]
  },
  {
   "cell_type": "markdown",
   "metadata": {},
   "source": [
    "## Regression Models\n",
    "First, I split the data useing train_test_split, where the predicted output classes are the scores of the two teams and all other columns are features."
   ]
  },
  {
   "cell_type": "code",
   "execution_count": 85,
   "metadata": {},
   "outputs": [],
   "source": [
    "classes = train_data['score1']\n",
    "features = train_data[['season', 'league_id', 'league', 'team1', 'team2', 'spi1', 'spi2', 'prob1', 'prob2', 'probtie', 'proj_score1', 'proj_score2', 'Year', 'Month', 'Date']]"
   ]
  },
  {
   "cell_type": "code",
   "execution_count": 86,
   "metadata": {},
   "outputs": [],
   "source": [
    "X_train, X_test, Y_train, Y_test = train_test_split(features, classes, test_size=0.2, random_state=13)"
   ]
  },
  {
   "cell_type": "code",
   "execution_count": 87,
   "metadata": {},
   "outputs": [],
   "source": [
    "expected_result = Y_test"
   ]
  },
  {
   "cell_type": "markdown",
   "metadata": {},
   "source": [
    "First, I use the random forest regressor which has many decision trees and an arbitary numbers of features for splitting. I use the Y_test data and prediction to compute the R^2 score, which is an accuracy measure of regression models. The following is the array of predicted scores:"
   ]
  },
  {
   "cell_type": "code",
   "execution_count": 88,
   "metadata": {},
   "outputs": [
    {
     "data": {
      "text/plain": [
       "0.08070493775452914"
      ]
     },
     "execution_count": 88,
     "metadata": {},
     "output_type": "execute_result"
    }
   ],
   "source": [
    "forest = RandomForestRegressor(n_estimators=100)\n",
    "forest.fit(X_train, Y_train)\n",
    "pred_test_forest = forest.predict(X_test)\n",
    "r2_score(Y_test.to_numpy(),pred_test_forest)"
   ]
  },
  {
   "cell_type": "code",
   "execution_count": 89,
   "metadata": {},
   "outputs": [
    {
     "data": {
      "text/plain": [
       "array([1.63, 1.42, 1.67, ..., 1.18, 1.19, 1.66])"
      ]
     },
     "execution_count": 89,
     "metadata": {},
     "output_type": "execute_result"
    }
   ],
   "source": [
    "pred_test_forest"
   ]
  },
  {
   "cell_type": "markdown",
   "metadata": {},
   "source": [
    "The accuracy is only at about 8%. Let's try a different model- gradient boosting, which uses weak learners to create a strong learner, by adding a model at each iteration. I tuned it to have 500 boosting stages and get the following accuracy and predictions:"
   ]
  },
  {
   "cell_type": "code",
   "execution_count": 90,
   "metadata": {},
   "outputs": [
    {
     "data": {
      "text/plain": [
       "0.11519974069238359"
      ]
     },
     "execution_count": 90,
     "metadata": {},
     "output_type": "execute_result"
    }
   ],
   "source": [
    "params = {'n_estimators': 500,\n",
    "          'max_depth': 4,\n",
    "          'min_samples_split': 5,\n",
    "          'learning_rate': 0.01,\n",
    "          'loss': 'ls'}\n",
    "gradient_boost = ensemble.GradientBoostingRegressor(**params)\n",
    "gradient_boost.fit(X_train, Y_train)\n",
    "grad_test = gradient_boost.predict(X_test)\n",
    "r2_score(Y_test.to_numpy(),grad_test)"
   ]
  },
  {
   "cell_type": "code",
   "execution_count": 91,
   "metadata": {},
   "outputs": [
    {
     "data": {
      "text/plain": [
       "array([1.65037978, 1.35033702, 1.61123927, ..., 1.0176884 , 1.39566977,\n",
       "       1.49418788])"
      ]
     },
     "execution_count": 91,
     "metadata": {},
     "output_type": "execute_result"
    }
   ],
   "source": [
    "grad_test"
   ]
  },
  {
   "cell_type": "markdown",
   "metadata": {},
   "source": [
    "Now, similar to generating a r^2 value when comparing the test values and predictions, I generate an r^2 value after predicting using the 'predict_data' which was the data of the future games. The R^2 value will be similar, so I use this to predict scores of games that have not happened."
   ]
  },
  {
   "cell_type": "code",
   "execution_count": 92,
   "metadata": {},
   "outputs": [
    {
     "data": {
      "text/plain": [
       "0.11535485659555667"
      ]
     },
     "execution_count": 92,
     "metadata": {},
     "output_type": "execute_result"
    }
   ],
   "source": [
    "pred_future = gradient_boost.predict(predict_data)\n",
    "r2_score(Y_test, pred_test)"
   ]
  },
  {
   "cell_type": "markdown",
   "metadata": {},
   "source": [
    "**Predicted scores of team 1 of games in 2021:**"
   ]
  },
  {
   "cell_type": "code",
   "execution_count": 93,
   "metadata": {},
   "outputs": [
    {
     "data": {
      "text/plain": [
       "array([2.98738017, 1.10884619, 1.19695484, ..., 1.26597693, 1.40138411,\n",
       "       1.44255733])"
      ]
     },
     "execution_count": 93,
     "metadata": {},
     "output_type": "execute_result"
    }
   ],
   "source": [
    "pred_future"
   ]
  },
  {
   "cell_type": "markdown",
   "metadata": {},
   "source": [
    "**Predicted scores of team 2 of games in 2021:**"
   ]
  },
  {
   "cell_type": "markdown",
   "metadata": {},
   "source": [
    "Similar to how I predicted the score for team 1, I predict team 2's score:"
   ]
  },
  {
   "cell_type": "code",
   "execution_count": 95,
   "metadata": {},
   "outputs": [
    {
     "data": {
      "text/plain": [
       "array([1.07408323, 1.31611294, 1.48816558, ..., 1.08446962, 1.50916578,\n",
       "       1.09349635])"
      ]
     },
     "execution_count": 95,
     "metadata": {},
     "output_type": "execute_result"
    }
   ],
   "source": [
    "X_train, X_test, Y_train, Y_test = train_test_split(features, train_data['score2'], test_size=0.2, random_state=13) \n",
    "gradient_boost.fit(X_train, Y_train)\n",
    "grad_test_team2 = gradient_boost.predict(X_test)\n",
    "grad_test_team2"
   ]
  },
  {
   "cell_type": "markdown",
   "metadata": {},
   "source": [
    "## Visualization\n",
    "I plot the expected values and predicted values for both team's scores"
   ]
  },
  {
   "cell_type": "code",
   "execution_count": 96,
   "metadata": {},
   "outputs": [
    {
     "data": {
      "image/png": "[encoded data removed]",
      "text/plain": [
       "<Figure size 432x288 with 1 Axes>"
      ]
     },
     "metadata": {
      "needs_background": "light"
     },
     "output_type": "display_data"
    },
    {
     "data": {
      "image/png": "[encoded data removed]",
      "text/plain": [
       "<Figure size 432x288 with 1 Axes>"
      ]
     },
     "metadata": {
      "needs_background": "light"
     },
     "output_type": "display_data"
    }
   ],
   "source": [
    "plt.scatter(grad_test, expected_result,  alpha=0.40)  \n",
    "plt.title('Gradient Boosting Regression')\n",
    "plt.xlabel('Prediction')  \n",
    "plt.ylabel('Expected')\n",
    "plt.show()\n",
    "\n",
    "plt.scatter(pred_test_forest, expected_result,  alpha=0.40)\n",
    "plt.title('Random Forest Regression')\n",
    "plt.xlabel('Prediction')  \n",
    "plt.ylabel('Expected')\n",
    "plt.show()"
   ]
  }
 ],
 "metadata": {
  "kernelspec": {
   "display_name": "Python 3",
   "language": "python",
   "name": "python3"
  },
  "language_info": {
   "codemirror_mode": {
    "name": "ipython",
    "version": 3
   },
   "file_extension": ".py",
   "mimetype": "text/x-python",
   "name": "python",
   "nbconvert_exporter": "python",
   "pygments_lexer": "ipython3",
   "version": "3.8.3"
  }
 },
 "nbformat": 4,
 "nbformat_minor": 4
}
